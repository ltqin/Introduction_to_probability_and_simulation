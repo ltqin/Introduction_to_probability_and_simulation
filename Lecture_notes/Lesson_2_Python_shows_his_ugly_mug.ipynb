{
 "cells": [
  {
   "cell_type": "markdown",
   "metadata": {},
   "source": [
    "# Python shows his ugly mug"
   ]
  },
  {
   "cell_type": "markdown",
   "metadata": {},
   "source": [
    "## Contents\n",
    "\n",
    "* [Well done](#well_done)\n",
    "\n",
    "* [Python Basis](#python_basics)\n",
    "\n",
    "    * [Numbers](#numbers)\n",
    "    * [Strings](#strings)\n",
    "    * [Variables](#variables)\n",
    "    \n",
    "* [Control Flow](#control_flow)\n",
    "\n",
    "    * [Conditionals statements](#conditional_statements)\n",
    "    * [Loops](#loops)\n",
    "    \n",
    "* [Ninja training 2](#njt2)"
   ]
  },
  {
   "cell_type": "markdown",
   "metadata": {},
   "source": [
    "## Well done <a name=\"well_done\"></a>\n",
    "\n",
    "If you have not done university maths before lesson 1 may have just felt like death. Good job on making it this far, you are doing great."
   ]
  },
  {
   "cell_type": "markdown",
   "metadata": {},
   "source": [
    "## Python basics <a name=\"python_basics\"></a>"
   ]
  },
  {
   "cell_type": "markdown",
   "metadata": {},
   "source": [
    "### Numbers <a name=\"numbers\"></a>"
   ]
  },
  {
   "cell_type": "markdown",
   "metadata": {},
   "source": [
    "Think of python as really powerful calculator!\n",
    "\n",
    "So you can do all the usual operations."
   ]
  },
  {
   "cell_type": "code",
   "execution_count": 7,
   "metadata": {},
   "outputs": [
    {
     "data": {
      "text/plain": [
       "5"
      ]
     },
     "execution_count": 7,
     "metadata": {},
     "output_type": "execute_result"
    }
   ],
   "source": [
    "# addition\n",
    "2+3"
   ]
  },
  {
   "cell_type": "code",
   "execution_count": 13,
   "metadata": {},
   "outputs": [
    {
     "data": {
      "text/plain": [
       "1"
      ]
     },
     "execution_count": 13,
     "metadata": {},
     "output_type": "execute_result"
    }
   ],
   "source": [
    "# substraction \n",
    "3-2"
   ]
  },
  {
   "cell_type": "code",
   "execution_count": 14,
   "metadata": {},
   "outputs": [
    {
     "data": {
      "text/plain": [
       "12"
      ]
     },
     "execution_count": 14,
     "metadata": {},
     "output_type": "execute_result"
    }
   ],
   "source": [
    "# multiplcation\n",
    "2*6"
   ]
  },
  {
   "cell_type": "code",
   "execution_count": 15,
   "metadata": {},
   "outputs": [
    {
     "data": {
      "text/plain": [
       "1.5"
      ]
     },
     "execution_count": 15,
     "metadata": {},
     "output_type": "execute_result"
    }
   ],
   "source": [
    "# division \n",
    "3/2"
   ]
  },
  {
   "cell_type": "markdown",
   "metadata": {},
   "source": [
    "In a jupyter notebook last line of code is automatically printed. This may not happen in other text editors or IDEs."
   ]
  },
  {
   "cell_type": "code",
   "execution_count": 16,
   "metadata": {},
   "outputs": [
    {
     "data": {
      "text/plain": [
       "1.5"
      ]
     },
     "execution_count": 16,
     "metadata": {},
     "output_type": "execute_result"
    }
   ],
   "source": [
    "2+3\n",
    "3-2\n",
    "2*6\n",
    "3/2 # Only the output of this line is printed."
   ]
  },
  {
   "cell_type": "markdown",
   "metadata": {},
   "source": [
    "To display all of the above code use the ```print() ``` function."
   ]
  },
  {
   "cell_type": "code",
   "execution_count": 17,
   "metadata": {},
   "outputs": [
    {
     "name": "stdout",
     "output_type": "stream",
     "text": [
      "5\n",
      "1\n",
      "12\n",
      "1.5\n"
     ]
    }
   ],
   "source": [
    "print(2+3)\n",
    "print(3-2)\n",
    "print(2*6)\n",
    "print(3/2)"
   ]
  },
  {
   "cell_type": "markdown",
   "metadata": {},
   "source": [
    "Great python can work with numbers!\n",
    "\n",
    "Sidenote, There are diffenent types of numbers.\n",
    "```type() ``` can be used to identify the type of number."
   ]
  },
  {
   "cell_type": "code",
   "execution_count": 1,
   "metadata": {},
   "outputs": [
    {
     "name": "stdout",
     "output_type": "stream",
     "text": [
      "<class 'int'>\n",
      "<class 'float'>\n"
     ]
    }
   ],
   "source": [
    "print(type(1))\n",
    "print(type(1.5))"
   ]
  },
  {
   "cell_type": "markdown",
   "metadata": {},
   "source": [
    "An integer (int) is a number without a decimal point. A floating-point number (float), which means it is a number that has a decimal place. Floats are used when more precision is needed.\n",
    "This is non-technical definiton. The full definiton involves binary (zeros and ones)."
   ]
  },
  {
   "cell_type": "markdown",
   "metadata": {},
   "source": [
    "### Strings <a name=\"strings\"></a>"
   ]
  },
  {
   "cell_type": "markdown",
   "metadata": {},
   "source": [
    "We can also write sentences in python. These are type string.\n",
    "\n",
    "Use ```\"\"``` or ```''```to make a string."
   ]
  },
  {
   "cell_type": "code",
   "execution_count": 2,
   "metadata": {},
   "outputs": [
    {
     "data": {
      "text/plain": [
       "'This is an example of a string'"
      ]
     },
     "execution_count": 2,
     "metadata": {},
     "output_type": "execute_result"
    }
   ],
   "source": [
    "\"This is an example of a string\""
   ]
  },
  {
   "cell_type": "markdown",
   "metadata": {},
   "source": [
    "### Variables <a name=\"variables\"></a>"
   ]
  },
  {
   "cell_type": "markdown",
   "metadata": {},
   "source": [
    "Python can store variables for later use."
   ]
  },
  {
   "cell_type": "code",
   "execution_count": 3,
   "metadata": {},
   "outputs": [
    {
     "name": "stdout",
     "output_type": "stream",
     "text": [
      "3\n"
     ]
    },
    {
     "data": {
      "text/plain": [
       "int"
      ]
     },
     "execution_count": 3,
     "metadata": {},
     "output_type": "execute_result"
    }
   ],
   "source": [
    "a = 3 # assign 3 to variable a.\n",
    "print(a)\n",
    "type(a)"
   ]
  },
  {
   "cell_type": "markdown",
   "metadata": {},
   "source": [
    "We can make variables which are strings too.\n"
   ]
  },
  {
   "cell_type": "code",
   "execution_count": 1,
   "metadata": {},
   "outputs": [
    {
     "name": "stdout",
     "output_type": "stream",
     "text": [
      "Harry Potter\n"
     ]
    }
   ],
   "source": [
    "hp = \"Harry Potter\"\n",
    "print(hp)"
   ]
  },
  {
   "cell_type": "markdown",
   "metadata": {},
   "source": [
    "## Control flow <a name=\"control_flow\"></a>\n"
   ]
  },
  {
   "cell_type": "markdown",
   "metadata": {},
   "source": [
    "Control flow is the order in which your computer reads your program.\n",
    "\n",
    "Usually top to bottow. However, **conditional statements** and **loops** can be used to change the control flow."
   ]
  },
  {
   "cell_type": "markdown",
   "metadata": {},
   "source": [
    "### Conditional statements <a name=\"conditional_statements\"></a>"
   ]
  },
  {
   "cell_type": "markdown",
   "metadata": {},
   "source": [
    "Here is an example of a conditional statement in English.\n",
    "\n",
    "**If** I am a wizard I can do magic **else** I can't do magic.\n",
    "\n",
    "In python,\n"
   ]
  },
  {
   "cell_type": "code",
   "execution_count": 3,
   "metadata": {},
   "outputs": [
    {
     "name": "stdout",
     "output_type": "stream",
     "text": [
      "I can do magic.\n"
     ]
    }
   ],
   "source": [
    "I_am_a_wizard = True\n",
    "if I_am_a_wizard:\n",
    "    print(\"I can do magic.\")\n",
    "else:\n",
    "    print(\"I can't do magic.\")"
   ]
  },
  {
   "cell_type": "markdown",
   "metadata": {},
   "source": [
    "Great!!! Lets try make a conditional statement with numbers.\n",
    "\n",
    "A small aside, to compare numbers one can use the following oporators, \n",
    "* `==` is equal to?\n",
    "* `<`  is less than?\n",
    "* `>`  is greater than?\n",
    "* `<=` is less than or equal to?\n",
    "* `>=` is greater than or equal to?\n",
    "\n",
    "For example "
   ]
  },
  {
   "cell_type": "code",
   "execution_count": 5,
   "metadata": {},
   "outputs": [
    {
     "data": {
      "text/plain": [
       "True"
      ]
     },
     "execution_count": 5,
     "metadata": {},
     "output_type": "execute_result"
    }
   ],
   "source": [
    "2>1"
   ]
  },
  {
   "cell_type": "code",
   "execution_count": 6,
   "metadata": {},
   "outputs": [
    {
     "data": {
      "text/plain": [
       "False"
      ]
     },
     "execution_count": 6,
     "metadata": {},
     "output_type": "execute_result"
    }
   ],
   "source": [
    "69>88"
   ]
  },
  {
   "cell_type": "markdown",
   "metadata": {},
   "source": [
    "Great, lets make the if statement."
   ]
  },
  {
   "cell_type": "code",
   "execution_count": 12,
   "metadata": {},
   "outputs": [
    {
     "name": "stdout",
     "output_type": "stream",
     "text": [
      "You are acidic\n"
     ]
    }
   ],
   "source": [
    "ph = 2\n",
    "\n",
    "if ph < 7:\n",
    "    print('You are acidic')\n",
    "elif ph == 7:\n",
    "    print('You are neutral')\n",
    "else:\n",
    "    print('You are basic')"
   ]
  },
  {
   "cell_type": "markdown",
   "metadata": {},
   "source": [
    "### Loops <a name=\"loops\"></a>"
   ]
  },
  {
   "cell_type": "markdown",
   "metadata": {},
   "source": [
    "Suppose you want to write a program that requires statements to be repeated.\n",
    "\n",
    "For example, lets consider the integers from 0 to 10. For each number we want to determine if is even or odd.\n",
    "\n",
    "Here is a fun fact about even and odd numbers.\n",
    "\n",
    "**A number is even if you can divide it by 2**\n",
    "\n",
    "**A number is odd if you can't divide it by 2** or more accurately there is some remainder.\n",
    "\n",
    "In order to chech the remainder use the modulo opertation ```%```\n"
   ]
  },
  {
   "cell_type": "code",
   "execution_count": 4,
   "metadata": {},
   "outputs": [
    {
     "name": "stdout",
     "output_type": "stream",
     "text": [
      "0\n",
      "1\n",
      "2\n"
     ]
    }
   ],
   "source": [
    "print(5%1)\n",
    "print(5%2)\n",
    "print(5%3)"
   ]
  },
  {
   "cell_type": "markdown",
   "metadata": {},
   "source": [
    "I want to quickly introduce **f strings**.\n",
    "\n",
    "f strings are a great/simple way to format thing you want to print."
   ]
  },
  {
   "cell_type": "code",
   "execution_count": 3,
   "metadata": {},
   "outputs": [
    {
     "name": "stdout",
     "output_type": "stream",
     "text": [
      "Hi my name is Harry and I am 38 years old\n"
     ]
    }
   ],
   "source": [
    "name = \"Harry\"\n",
    "age = 38\n",
    "print(f'Hi my name is {name} and I am {age} years old')"
   ]
  },
  {
   "cell_type": "markdown",
   "metadata": {},
   "source": [
    "Cool!!! Let us reformat the following code with f strings.\n",
    "\n",
    "```python\n",
    "print(5%1)\n",
    "print(5%2)\n",
    "print(5%3)\n",
    "```"
   ]
  },
  {
   "cell_type": "code",
   "execution_count": 8,
   "metadata": {},
   "outputs": [
    {
     "name": "stdout",
     "output_type": "stream",
     "text": [
      "When we divide 5 by 1 we the remainder is 0.\n",
      "When we divide 5 by 2 we the remainder is 1.\n",
      "When we divide 5 by 3 we the remainder is 2.\n"
     ]
    }
   ],
   "source": [
    "print(f'When we divide 5 by 1 we the remainder is {5%1}.')\n",
    "print(f'When we divide 5 by 2 we the remainder is {5%2}.')\n",
    "print(f'When we divide 5 by 3 we the remainder is {5%3}.')"
   ]
  },
  {
   "cell_type": "markdown",
   "metadata": {},
   "source": [
    "Now let use the chech which numbers from 0 to 10 are even and odd."
   ]
  },
  {
   "cell_type": "code",
   "execution_count": 15,
   "metadata": {},
   "outputs": [
    {
     "name": "stdout",
     "output_type": "stream",
     "text": [
      "0 is even\n",
      "1 is odd\n",
      "2 is even\n",
      "3 is odd\n",
      "4 is even\n",
      "5 is odd\n",
      "6 is even\n",
      "7 is odd\n",
      "8 is even\n",
      "9 is odd\n",
      "10 is even\n"
     ]
    }
   ],
   "source": [
    "# Chech 0\n",
    "number = 0\n",
    "if number%2 == 0:\n",
    "    print(f'{number} is even')\n",
    "else:\n",
    "    print(f'{number} is odd')\n",
    "    \n",
    "# Chech 1\n",
    "number = 1\n",
    "if number%2 == 0:\n",
    "    print(f'{number} is even')\n",
    "else:\n",
    "    print(f'{number} is odd')\n",
    "    \n",
    "# Chech 2\n",
    "number = 2\n",
    "if number%2 == 0:\n",
    "    print(f'{number} is even')\n",
    "else:\n",
    "    print(f'{number} is odd')\n",
    "    \n",
    "# Chech 3\n",
    "number = 3\n",
    "if number%2 == 0:\n",
    "    print(f'{number} is even')\n",
    "else:\n",
    "    print(f'{number} is odd')\n",
    "    \n",
    "# Chech 4\n",
    "number = 4\n",
    "if number%2 == 0:\n",
    "    print(f'{number} is even')\n",
    "else:\n",
    "    print(f'{number} is odd')\n",
    "    \n",
    "# Chech 5\n",
    "number = 5\n",
    "if number%2 == 0:\n",
    "    print(f'{number} is even')\n",
    "else:\n",
    "    print(f'{number} is odd')\n",
    "    \n",
    "# Chech 6\n",
    "number = 6\n",
    "if number%2 == 0:\n",
    "    print(f'{number} is even')\n",
    "else:\n",
    "    print(f'{number} is odd')\n",
    "    \n",
    "# Chech 7\n",
    "number = 7\n",
    "if number%2 == 0:\n",
    "    print(f'{number} is even')\n",
    "else:\n",
    "    print(f'{number} is odd')\n",
    "    \n",
    "# Chech 8\n",
    "number = 8\n",
    "if number%2 == 0:\n",
    "    print(f'{number} is even')\n",
    "else:\n",
    "    print(f'{number} is odd')\n",
    "    \n",
    "# Chech 9\n",
    "number = 9\n",
    "if number%2 == 0:\n",
    "    print(f'{number} is even')\n",
    "else:\n",
    "    print(f'{number} is odd')\n",
    "    \n",
    "# Chech 10\n",
    "number = 10\n",
    "if number%2 == 0:\n",
    "    print(f'{number} is even')\n",
    "else:\n",
    "    print(f'{number} is odd')\n",
    "    \n",
    "\n",
    "    "
   ]
  },
  {
   "cell_type": "markdown",
   "metadata": {},
   "source": [
    "That was a lot of code!!! Lets make our first loop."
   ]
  },
  {
   "cell_type": "code",
   "execution_count": 16,
   "metadata": {},
   "outputs": [
    {
     "name": "stdout",
     "output_type": "stream",
     "text": [
      "0 is even\n",
      "1 is odd\n",
      "2 is even\n",
      "3 is odd\n",
      "4 is even\n",
      "5 is odd\n",
      "6 is even\n",
      "7 is odd\n",
      "8 is even\n",
      "9 is odd\n",
      "10 is even\n"
     ]
    }
   ],
   "source": [
    "# A for loop\n",
    "\n",
    "for i in range(11):\n",
    "    number = i\n",
    "    if number%2 == 0:\n",
    "        print(f'{number} is even')\n",
    "    else:\n",
    "        print(f'{number} is odd')\n",
    "    "
   ]
  },
  {
   "cell_type": "markdown",
   "metadata": {},
   "source": [
    "Great!!! We shortened the code but how does the ```for``` loop work.\n",
    "\n",
    "* ```range(11)``` will produce a sequence of numbers from 0 up to but not including 11. \n",
    "* i is assigned to the first number in range(11) which is 0.\n",
    "* The code indented under ```for``` will run.\n",
    "\n",
    "* i is reassigned to the second element of ```range(11)``` which is 1.\n",
    "* The code indented under ```for``` will run.\n",
    "\n",
    "and so on until 10 (11 - 1).\n",
    "\n",
    "\n"
   ]
  },
  {
   "cell_type": "markdown",
   "metadata": {},
   "source": [
    "Lastly, python has ```while``` loops.\n",
    "\n",
    "\n",
    "Here is an example.\n"
   ]
  },
  {
   "cell_type": "code",
   "execution_count": 1,
   "metadata": {},
   "outputs": [
    {
     "name": "stdout",
     "output_type": "stream",
     "text": [
      "It will take you 81 weeks to save for that car.\n"
     ]
    }
   ],
   "source": [
    "# Suppose you want to save up to buy a new car.\n",
    "bank_savings = 300\n",
    "pay = 500\n",
    "rent = 200\n",
    "bills = 100\n",
    "food = 80\n",
    "\n",
    "week = 0\n",
    "\n",
    "car_price = 10000\n",
    "\n",
    "while bank_savings < car_price:\n",
    "    week = week + 1\n",
    "    bank_savings += pay - rent- bills - food\n",
    "    \n",
    "print(f'It will take you {week} weeks to save for that car.')"
   ]
  },
  {
   "cell_type": "markdown",
   "metadata": {},
   "source": [
    "How do ```while``` loops works?\n",
    "\n",
    "* The program checks the condition next to ```while```\n",
    "* If it is true, the code indented under ```while``` will run.\n",
    "* If it is false, the program will exit the loop.\n",
    "\n"
   ]
  },
  {
   "cell_type": "markdown",
   "metadata": {},
   "source": [
    "## Ninja training 2 <a name=\"njt2\"></a>"
   ]
  },
  {
   "cell_type": "markdown",
   "metadata": {},
   "source": [
    "**Task 1:** Computers read numbers in binary (that is 0s and 1s). For example,\n",
    "* 2 is 10\n",
    "* 3 is 11\n",
    "* 4 is 100.\n",
    "\n",
    "If you are interested google \"binary\".\n",
    "\n",
    "Python can display the binary representation via the ```bin()``` function."
   ]
  },
  {
   "cell_type": "code",
   "execution_count": 4,
   "metadata": {},
   "outputs": [
    {
     "name": "stdout",
     "output_type": "stream",
     "text": [
      "0b10\n",
      "0b11\n",
      "0b100\n"
     ]
    }
   ],
   "source": [
    "print(bin(2))\n",
    "print(bin(3))\n",
    "print(bin(4))"
   ]
  },
  {
   "cell_type": "markdown",
   "metadata": {},
   "source": [
    "Your task is to write a program that prints out the binary representation of all the even numbers from 0 to 100."
   ]
  },
  {
   "cell_type": "code",
   "execution_count": null,
   "metadata": {},
   "outputs": [],
   "source": []
  }
 ],
 "metadata": {
  "kernelspec": {
   "display_name": "Python 3",
   "language": "python",
   "name": "python3"
  },
  "language_info": {
   "codemirror_mode": {
    "name": "ipython",
    "version": 3
   },
   "file_extension": ".py",
   "mimetype": "text/x-python",
   "name": "python",
   "nbconvert_exporter": "python",
   "pygments_lexer": "ipython3",
   "version": "3.7.3"
  }
 },
 "nbformat": 4,
 "nbformat_minor": 2
}
