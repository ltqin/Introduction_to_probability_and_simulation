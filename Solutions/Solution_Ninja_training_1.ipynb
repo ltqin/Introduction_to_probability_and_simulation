{
 "cells": [
  {
   "cell_type": "markdown",
   "metadata": {},
   "source": [
    "# Solutions Ninja Training 1\n",
    "\n",
    "[Task 1](#n1t1)\n",
    "\n",
    "[Task 2](#n1t2)\n",
    "\n",
    "[Task 3](#n1t3)\n"
   ]
  },
  {
   "cell_type": "markdown",
   "metadata": {},
   "source": [
    "## Task 1 <a name=\"n1t1\"></a>\n",
    "Define a sample space for the experiment of putting three different books on a shelf in random order.  If two of these three books are a two-volume dictionary, describe the outcomes that these volumes stand in increasing order side-by-side (i.e., volume I precedes volume II)."
   ]
  },
  {
   "cell_type": "markdown",
   "metadata": {},
   "source": [
    "**Solution :**\n",
    "    \n",
    "- Let $v_1 = $ the first volume.\n",
    "- Let $v_2 = $ the second volume.\n",
    "- Let $a = $ the remaining book\n",
    "\n",
    "So   \n",
    "$\\Omega = \\{v_1v_2a,v_1av_2,v_2v_1a,v_2av_1,av_1v_2,av_2v_1\\}$.\n",
    "\n",
    "I know $\\Omega$ has 6 elements because $3! = 3 \\times 2 \\times 1.$\n"
   ]
  },
  {
   "cell_type": "markdown",
   "metadata": {},
   "source": [
    "The outcome that these volumes stand in increasing order,\n",
    "$$\\{v_1v_2a,av_1v_2\\}.$$\n"
   ]
  },
  {
   "cell_type": "markdown",
   "metadata": {},
   "source": [
    "## Task 2 <a name=\"n1t2\"></a>\n",
    "\n",
    "Let $A$ and $B$ be two events.  Prove the following relation,\n",
    "$$(A \\setminus (A\\cap B)) \\cup B=A\\cup B$$."
   ]
  },
  {
   "cell_type": "markdown",
   "metadata": {},
   "source": [
    "**A quick Ninja lesson**\n",
    "\n",
    "In order to prove two sets are equal ($A=B$) we need to show\n",
    "\n",
    "- $A$ is a subset of $B$  written mathematically  ($A \\subset B$) \n",
    "- $B$ is a subset of $A$  written mathematically  ($B \\subset A$)"
   ]
  },
  {
   "cell_type": "markdown",
   "metadata": {},
   "source": [
    "But how do we show ($A \\subset B$). Easy, you can do it!!!\n",
    "\n",
    "We show that all elements of $A$ are also in $B$ written mathematically  $x \\in A \\Rightarrow x \\in B$."
   ]
  },
  {
   "cell_type": "markdown",
   "metadata": {},
   "source": [
    "**Solution**\n",
    "We will show that $(A \\setminus (A∩B)) \\cup B = A∪B$.  \n",
    "\n"
   ]
  },
  {
   "cell_type": "markdown",
   "metadata": {},
   "source": [
    "First we prove the forward direction,\n",
    "$(A \\setminus (A∩B)) \\cup B \\subset A∪B.$ Thus we prove the statement \"if  $x \\in (A \\setminus (A∩B)) \\cup B \\Rightarrow x \\in  A∪B\".$\n",
    "\n",
    "We have two cases\n",
    "1. $x \\in (A \\setminus (A∩B))$\n",
    "2. $x \\in B$\n",
    "\n",
    "The second case is easy. If $x$ is in $B$ then of course is $A \\cup B$\n",
    "\n",
    "For the first case,\n",
    "\n",
    "$$A \\setminus (A∩B) = A \\cap (A∩B)^c$$\n",
    "\n",
    "However, this tells us that $x \\in A$ so of course $x \\in A \\cup B.$\n"
   ]
  },
  {
   "cell_type": "markdown",
   "metadata": {},
   "source": [
    "Great let us prove the backward direction (i.e $ A∪B \\subset (A \\setminus (A∩B)) \\cup B$. "
   ]
  },
  {
   "cell_type": "markdown",
   "metadata": {},
   "source": [
    "We have two cases\n",
    "1. $x \\in A$\n",
    "2. $x \\in B$"
   ]
  },
  {
   "cell_type": "markdown",
   "metadata": {},
   "source": [
    "For the second case $x \\in B$ so of course $x \\in (A \\setminus (A∩B)) \\cup B.$"
   ]
  },
  {
   "cell_type": "markdown",
   "metadata": {},
   "source": [
    "For the first case we will first prove a result.\n",
    "\n",
    "$$A \\setminus (A∩B) = A \\cap (A∩B)^c$$\n",
    "\n",
    "We distribute the complement\n",
    "\n",
    "$$A \\cap (A∩B)^c = A \\cap (A^c \\cup B^c) $$\n",
    "\n",
    "Expanding,\n",
    "\n",
    "$$  (A \\cap A^c) \\cup (A \\cup B^c) = \\emptyset \\cup (A \\cup B^c)  = A \\cup B^c $$\n",
    "\n",
    "Great now that we have this is result we can safely say that if $x \\in A$ then $x \\in A \\cup B^c$ which means $x \\in A \\setminus (A∩B$).\n",
    "\n",
    "Given this we can now say $x \\in (A \\setminus (A∩B)) \\cup B$"
   ]
  },
  {
   "cell_type": "markdown",
   "metadata": {},
   "source": [
    "Well done! You have proved both directions.\n",
    "\n",
    "This means,\n",
    "\n",
    "$$(A \\setminus (A\\cap B)) \\cup B=A\\cup B$$"
   ]
  },
  {
   "cell_type": "markdown",
   "metadata": {},
   "source": [
    "## Task 3 <a name=\"n1t3\"></a>\n",
    "\n",
    "So far we have only been working with finite sets. Use your ninja skills to collect intel on the following sets.\n",
    "- Natural numbers\n",
    "- Integers\n",
    "- Rational numbers\n",
    "- Real numbers"
   ]
  },
  {
   "cell_type": "markdown",
   "metadata": {},
   "source": [
    "**Solution**\n",
    "- Natural numbers $\\{1,2,3,4,5\\dots\\}$.\n",
    "- Integers $\\{\\dots-5,-4,-3,-2,-1,0,1,2,3,4,5\\dots\\}$.\n",
    "- Rational numbers: fractions (non-technical definition).\n",
    "- Real numbers: The complete number line (non-technical definition)."
   ]
  },
  {
   "cell_type": "code",
   "execution_count": null,
   "metadata": {},
   "outputs": [],
   "source": []
  }
 ],
 "metadata": {
  "kernelspec": {
   "display_name": "Python 3",
   "language": "python",
   "name": "python3"
  },
  "language_info": {
   "codemirror_mode": {
    "name": "ipython",
    "version": 3
   },
   "file_extension": ".py",
   "mimetype": "text/x-python",
   "name": "python",
   "nbconvert_exporter": "python",
   "pygments_lexer": "ipython3",
   "version": "3.7.3"
  }
 },
 "nbformat": 4,
 "nbformat_minor": 2
}
