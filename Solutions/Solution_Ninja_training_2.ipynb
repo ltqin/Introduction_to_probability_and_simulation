{
 "cells": [
  {
   "cell_type": "markdown",
   "metadata": {},
   "source": [
    "# Solutions Ninja Training 2\n",
    "\n",
    "[Task 1](#n2t1)"
   ]
  },
  {
   "cell_type": "markdown",
   "metadata": {},
   "source": [
    "## Task 1 <a name=\"n2t1\"></a>\n",
    "\n",
    "\n",
    "Computers read numbers in binary (that is 0s and 1s). For example,\n",
    "* 2 is 10\n",
    "* 3 is 11\n",
    "* 4 is 100.\n",
    "\n",
    "If you are interested google \"binary\".\n",
    "\n",
    "Python can display the binary representation via the ```bin()``` function."
   ]
  },
  {
   "cell_type": "code",
   "execution_count": 1,
   "metadata": {},
   "outputs": [
    {
     "name": "stdout",
     "output_type": "stream",
     "text": [
      "0b10\n",
      "0b11\n",
      "0b100\n"
     ]
    }
   ],
   "source": [
    "print(bin(2))\n",
    "print(bin(3))\n",
    "print(bin(4))"
   ]
  },
  {
   "cell_type": "markdown",
   "metadata": {},
   "source": [
    "Your task is to write a program that prints out the binary representation of all the even numbers from 0 to 100."
   ]
  },
  {
   "cell_type": "markdown",
   "metadata": {},
   "source": [
    "**Solution :**"
   ]
  },
  {
   "cell_type": "code",
   "execution_count": 2,
   "metadata": {},
   "outputs": [
    {
     "name": "stdout",
     "output_type": "stream",
     "text": [
      "0b0\n",
      "0b10\n",
      "0b100\n",
      "0b110\n",
      "0b1000\n",
      "0b1010\n",
      "0b1100\n",
      "0b1110\n",
      "0b10000\n",
      "0b10010\n",
      "0b10100\n",
      "0b10110\n",
      "0b11000\n",
      "0b11010\n",
      "0b11100\n",
      "0b11110\n",
      "0b100000\n",
      "0b100010\n",
      "0b100100\n",
      "0b100110\n",
      "0b101000\n",
      "0b101010\n",
      "0b101100\n",
      "0b101110\n",
      "0b110000\n",
      "0b110010\n",
      "0b110100\n",
      "0b110110\n",
      "0b111000\n",
      "0b111010\n",
      "0b111100\n",
      "0b111110\n",
      "0b1000000\n",
      "0b1000010\n",
      "0b1000100\n",
      "0b1000110\n",
      "0b1001000\n",
      "0b1001010\n",
      "0b1001100\n",
      "0b1001110\n",
      "0b1010000\n",
      "0b1010010\n",
      "0b1010100\n",
      "0b1010110\n",
      "0b1011000\n",
      "0b1011010\n",
      "0b1011100\n",
      "0b1011110\n",
      "0b1100000\n",
      "0b1100010\n",
      "0b1100100\n"
     ]
    }
   ],
   "source": [
    "for i in range(101):\n",
    "    if i%2 ==0:\n",
    "        print(bin(i))\n",
    "    else:\n",
    "        pass\n",
    "    "
   ]
  },
  {
   "cell_type": "markdown",
   "metadata": {},
   "source": [
    "If you really want to get fancy."
   ]
  },
  {
   "cell_type": "code",
   "execution_count": 1,
   "metadata": {},
   "outputs": [
    {
     "name": "stdout",
     "output_type": "stream",
     "text": [
      "0 in binary is 0\n",
      "2 in binary is 10\n",
      "4 in binary is 100\n",
      "6 in binary is 110\n",
      "8 in binary is 1000\n",
      "10 in binary is 1010\n",
      "12 in binary is 1100\n",
      "14 in binary is 1110\n",
      "16 in binary is 10000\n",
      "18 in binary is 10010\n",
      "20 in binary is 10100\n",
      "22 in binary is 10110\n",
      "24 in binary is 11000\n",
      "26 in binary is 11010\n",
      "28 in binary is 11100\n",
      "30 in binary is 11110\n",
      "32 in binary is 100000\n",
      "34 in binary is 100010\n",
      "36 in binary is 100100\n",
      "38 in binary is 100110\n",
      "40 in binary is 101000\n",
      "42 in binary is 101010\n",
      "44 in binary is 101100\n",
      "46 in binary is 101110\n",
      "48 in binary is 110000\n",
      "50 in binary is 110010\n",
      "52 in binary is 110100\n",
      "54 in binary is 110110\n",
      "56 in binary is 111000\n",
      "58 in binary is 111010\n",
      "60 in binary is 111100\n",
      "62 in binary is 111110\n",
      "64 in binary is 1000000\n",
      "66 in binary is 1000010\n",
      "68 in binary is 1000100\n",
      "70 in binary is 1000110\n",
      "72 in binary is 1001000\n",
      "74 in binary is 1001010\n",
      "76 in binary is 1001100\n",
      "78 in binary is 1001110\n",
      "80 in binary is 1010000\n",
      "82 in binary is 1010010\n",
      "84 in binary is 1010100\n",
      "86 in binary is 1010110\n",
      "88 in binary is 1011000\n",
      "90 in binary is 1011010\n",
      "92 in binary is 1011100\n",
      "94 in binary is 1011110\n",
      "96 in binary is 1100000\n",
      "98 in binary is 1100010\n",
      "100 in binary is 1100100\n"
     ]
    }
   ],
   "source": [
    "for i in range(101):\n",
    "    if i%2 ==0:\n",
    "        binary_rep = bin(i) \n",
    "        print(f'{i} in binary is ' + binary_rep.replace('0b','') )\n",
    "    else:\n",
    "        pass"
   ]
  },
  {
   "cell_type": "code",
   "execution_count": null,
   "metadata": {},
   "outputs": [],
   "source": []
  }
 ],
 "metadata": {
  "kernelspec": {
   "display_name": "Python 3",
   "language": "python",
   "name": "python3"
  },
  "language_info": {
   "codemirror_mode": {
    "name": "ipython",
    "version": 3
   },
   "file_extension": ".py",
   "mimetype": "text/x-python",
   "name": "python",
   "nbconvert_exporter": "python",
   "pygments_lexer": "ipython3",
   "version": "3.7.3"
  }
 },
 "nbformat": 4,
 "nbformat_minor": 2
}
